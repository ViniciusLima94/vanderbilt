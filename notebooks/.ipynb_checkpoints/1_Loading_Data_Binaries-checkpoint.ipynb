{
 "cells": [
  {
   "cell_type": "code",
   "execution_count": null,
   "id": "1dd71fe7-3134-48b7-8d6e-7a42d35bcd2d",
   "metadata": {},
   "outputs": [],
   "source": [
    "import sys\n",
    "\n",
    "sys.path.insert(1, \"/home/vinicius/storage1/projects/vanderbilt/\")"
   ]
  },
  {
   "cell_type": "code",
   "execution_count": null,
   "id": "7cb65206-344d-4d26-aa71-9ed98052d08e",
   "metadata": {},
   "outputs": [],
   "source": [
    "from src.io.LoadBinary import perpl_LoadBinary"
   ]
  },
  {
   "cell_type": "code",
   "execution_count": null,
   "id": "727b6f55-c947-4d03-b48d-17cfa5db17c9",
   "metadata": {},
   "outputs": [],
   "source": [
    "filepath = \"/home/vinicius/funcog/vanderbilt/vanderbilt/neural_data/pHPC_cnct.dat\""
   ]
  },
  {
   "cell_type": "code",
   "execution_count": null,
   "id": "90eddf63-d39a-491b-8633-dcb3fdd2a9a7",
   "metadata": {},
   "outputs": [],
   "source": [
    "perpl_LoadBinary?"
   ]
  },
  {
   "cell_type": "code",
   "execution_count": null,
   "id": "8aa38f1f-39f0-4487-a681-5da98386db74",
   "metadata": {},
   "outputs": [],
   "source": [
    "perpl_LoadBinary(\n",
    "    filepath, frequency=30000, nSamplesPerChannel=1000, bitVolts=0.195, nChannels=64\n",
    ")"
   ]
  },
  {
   "cell_type": "code",
   "execution_count": null,
   "id": "a7220789-5971-4b45-a8a4-03f0cfbf9b95",
   "metadata": {},
   "outputs": [],
   "source": []
  }
 ],
 "metadata": {
  "kernelspec": {
   "display_name": "Python 3 (ipykernel)",
   "language": "python",
   "name": "python3"
  },
  "language_info": {
   "codemirror_mode": {
    "name": "ipython",
    "version": 3
   },
   "file_extension": ".py",
   "mimetype": "text/x-python",
   "name": "python",
   "nbconvert_exporter": "python",
   "pygments_lexer": "ipython3",
   "version": "3.9.16"
  }
 },
 "nbformat": 4,
 "nbformat_minor": 5
}
