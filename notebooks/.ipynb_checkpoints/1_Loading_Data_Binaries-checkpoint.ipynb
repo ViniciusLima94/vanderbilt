{
 "cells": [
  {
   "cell_type": "markdown",
   "id": "998d2480-eab5-4a9b-b818-83703ee083f0",
   "metadata": {},
   "source": [
    "### Loading data binaries"
   ]
  },
  {
   "cell_type": "code",
   "execution_count": null,
   "id": "7c4b79d3-0178-4a46-b37b-a3f31ea41eee",
   "metadata": {},
   "outputs": [],
   "source": [
    "import sys\n",
    "\n",
    "sys.path.insert(1, \"/home/vinicius/storage1/projects/vanderbilt/\")"
   ]
  },
  {
   "cell_type": "code",
   "execution_count": null,
   "id": "3d68fbd6-da9c-4c3c-8823-f4b36bfc674c",
   "metadata": {},
   "outputs": [],
   "source": [
    "import matplotlib.pyplot as plt\n",
    "import numpy as np\n",
    "from tqdm import tqdm"
   ]
  },
  {
   "cell_type": "code",
   "execution_count": null,
   "id": "7cb65206-344d-4d26-aa71-9ed98052d08e",
   "metadata": {},
   "outputs": [],
   "source": [
    "from src.io.loadbinary import LoadBinary"
   ]
  },
  {
   "cell_type": "code",
   "execution_count": null,
   "id": "727b6f55-c947-4d03-b48d-17cfa5db17c9",
   "metadata": {},
   "outputs": [],
   "source": [
    "filepath = \"/home/vinicius/funcog/vanderbilt/vanderbilt/neural_data/pHPC_cnct.dat\""
   ]
  },
  {
   "cell_type": "markdown",
   "id": "4d7c5b76-87ae-434d-8aaa-25c9083d52f8",
   "metadata": {},
   "source": [
    "#### Plot load binary function docstring"
   ]
  },
  {
   "cell_type": "code",
   "execution_count": null,
   "id": "90eddf63-d39a-491b-8633-dcb3fdd2a9a7",
   "metadata": {},
   "outputs": [],
   "source": [
    "perpl_LoadBinary?"
   ]
  },
  {
   "cell_type": "markdown",
   "id": "f79726a3-69d1-4591-b625-cc48ab4f6617",
   "metadata": {},
   "source": [
    "#### Load data"
   ]
  },
  {
   "cell_type": "code",
   "execution_count": null,
   "id": "782964b3-9fdd-42ad-84bb-63031590e89f",
   "metadata": {},
   "outputs": [],
   "source": [
    "n = 1000"
   ]
  },
  {
   "cell_type": "code",
   "execution_count": null,
   "id": "8aa38f1f-39f0-4487-a681-5da98386db74",
   "metadata": {},
   "outputs": [],
   "source": [
    "data = LoadBinary(\n",
    "    filepath,\n",
    "    frequency=30000,\n",
    "    nSamplesPerChannel=10000,\n",
    "    channels=None,\n",
    "    downsample=1,\n",
    "    bitVolts=0.195,\n",
    "    nChannels=64,\n",
    "    precision=np.int16,\n",
    ")"
   ]
  },
  {
   "cell_type": "code",
   "execution_count": null,
   "id": "c0c36d0b-9512-4238-988f-348bacedfb72",
   "metadata": {},
   "outputs": [],
   "source": [
    "print(data)\n",
    "print(data.shape)"
   ]
  },
  {
   "cell_type": "code",
   "execution_count": null,
   "id": "feef888f-ec05-41b8-b36e-bbd18f8047c3",
   "metadata": {},
   "outputs": [],
   "source": [
    "plt.figure(figsize=(20, 20))\n",
    "for i in range(data.shape[1]):\n",
    "    plt.subplot(11, 6, i + 1)\n",
    "    plt.plot(data[:, i])\n",
    "    plt.title(f\"Channel {i + 1}\")\n",
    "    plt.axis(\"off\")\n",
    "plt.tight_layout()"
   ]
  },
  {
   "cell_type": "markdown",
   "id": "739b5471-29e4-4fb3-bc27-f2fca8f9cb5f",
   "metadata": {},
   "source": [
    "#### Save data for different parameters to compare with Matlab version"
   ]
  },
  {
   "cell_type": "code",
   "execution_count": null,
   "id": "7c78ad6e-009d-40e8-99ea-7ddcc5e60b1b",
   "metadata": {},
   "outputs": [],
   "source": [
    "downsample = [1, 10, 20]\n",
    "channels = [1, 5, 10, 23, 55]"
   ]
  },
  {
   "cell_type": "markdown",
   "id": "5467f9ba-9722-4e31-ab5d-4cca7ad81aef",
   "metadata": {},
   "source": [
    "#### Different sample sizes"
   ]
  },
  {
   "cell_type": "code",
   "execution_count": null,
   "id": "40696cbe-324b-44ad-aa94-47629d3a5cc0",
   "metadata": {},
   "outputs": [],
   "source": [
    "for n in tqdm([1000, 5000, 10000, 20000]):\n",
    "    for decim in downsample:\n",
    "        data = LoadBinary(\n",
    "            filepath,\n",
    "            frequency=30000,\n",
    "            nSamplesPerChannel=n,\n",
    "            downsample=decim,\n",
    "            bitVolts=0.195,\n",
    "            nChannels=64,\n",
    "            channels=channels,\n",
    "        )\n",
    "        np.savetxt(\n",
    "            f\"/home/vinicius/funcog/vanderbilt/vanderbilt/test_nsamples_{n}_decim_{decim}.txt\",\n",
    "            data,\n",
    "            delimiter=\",\",\n",
    "        )"
   ]
  },
  {
   "cell_type": "markdown",
   "id": "232affa2-ffe7-4513-9fd7-087d50476455",
   "metadata": {},
   "source": [
    "#### Different durations (in seconds)"
   ]
  },
  {
   "cell_type": "code",
   "execution_count": null,
   "id": "7e74fcb7-da99-4f5d-91e9-5b6f6107e477",
   "metadata": {},
   "outputs": [],
   "source": [
    "for n in tqdm([1, 5, 10]):\n",
    "    for decim in downsample:\n",
    "        data = LoadBinary(\n",
    "            filepath,\n",
    "            frequency=30000,\n",
    "            nSamplesPerChannel=None,\n",
    "            duration=n,\n",
    "            downsample=decim,\n",
    "            bitVolts=0.195,\n",
    "            nChannels=64,\n",
    "            channels=channels,\n",
    "        )\n",
    "        np.savetxt(\n",
    "            f\"/home/vinicius/funcog/vanderbilt/vanderbilt/test_dur_{n}_decim_{decim}.txt\",\n",
    "            data,\n",
    "            delimiter=\",\",\n",
    "        )"
   ]
  }
 ],
 "metadata": {
  "kernelspec": {
   "display_name": "Python 3 (ipykernel)",
   "language": "python",
   "name": "python3"
  },
  "language_info": {
   "codemirror_mode": {
    "name": "ipython",
    "version": 3
   },
   "file_extension": ".py",
   "mimetype": "text/x-python",
   "name": "python",
   "nbconvert_exporter": "python",
   "pygments_lexer": "ipython3",
   "version": "3.9.16"
  }
 },
 "nbformat": 4,
 "nbformat_minor": 5
}
