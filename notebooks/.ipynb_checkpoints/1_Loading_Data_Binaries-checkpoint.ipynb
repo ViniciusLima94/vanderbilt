{
 "cells": [
  {
   "cell_type": "markdown",
   "id": "998d2480-eab5-4a9b-b818-83703ee083f0",
   "metadata": {},
   "source": [
    "### Loading data binaries"
   ]
  },
  {
   "cell_type": "code",
   "execution_count": 1,
   "id": "7c4b79d3-0178-4a46-b37b-a3f31ea41eee",
   "metadata": {},
   "outputs": [],
   "source": [
    "import sys\n",
    "\n",
    "sys.path.insert(1, \"/home/vinicius/storage1/projects/vanderbilt/\")"
   ]
  },
  {
   "cell_type": "code",
   "execution_count": 2,
   "id": "3d68fbd6-da9c-4c3c-8823-f4b36bfc674c",
   "metadata": {},
   "outputs": [],
   "source": [
    "import numpy as np"
   ]
  },
  {
   "cell_type": "code",
   "execution_count": 3,
   "id": "7cb65206-344d-4d26-aa71-9ed98052d08e",
   "metadata": {},
   "outputs": [],
   "source": [
    "from src.io.LoadBinary import perpl_LoadBinary"
   ]
  },
  {
   "cell_type": "code",
   "execution_count": 4,
   "id": "727b6f55-c947-4d03-b48d-17cfa5db17c9",
   "metadata": {},
   "outputs": [],
   "source": [
    "filepath = \"/home/vinicius/funcog/vanderbilt/vanderbilt/neural_data/pHPC_cnct.dat\""
   ]
  },
  {
   "cell_type": "markdown",
   "id": "4d7c5b76-87ae-434d-8aaa-25c9083d52f8",
   "metadata": {},
   "source": [
    "#### Plot load binary function docstring"
   ]
  },
  {
   "cell_type": "code",
   "execution_count": 5,
   "id": "90eddf63-d39a-491b-8633-dcb3fdd2a9a7",
   "metadata": {},
   "outputs": [
    {
     "data": {
      "text/plain": [
       "\u001b[0;31mSignature:\u001b[0m\n",
       "\u001b[0mperpl_LoadBinary\u001b[0m\u001b[0;34m(\u001b[0m\u001b[0;34m\u001b[0m\n",
       "\u001b[0;34m\u001b[0m    \u001b[0mfilename\u001b[0m\u001b[0;34m:\u001b[0m \u001b[0mstr\u001b[0m\u001b[0;34m,\u001b[0m\u001b[0;34m\u001b[0m\n",
       "\u001b[0;34m\u001b[0m    \u001b[0mfrequency\u001b[0m\u001b[0;34m:\u001b[0m \u001b[0mint\u001b[0m \u001b[0;34m=\u001b[0m \u001b[0;36m30000\u001b[0m\u001b[0;34m,\u001b[0m\u001b[0;34m\u001b[0m\n",
       "\u001b[0;34m\u001b[0m    \u001b[0mstart\u001b[0m\u001b[0;34m:\u001b[0m \u001b[0mfloat\u001b[0m \u001b[0;34m=\u001b[0m \u001b[0;36m0\u001b[0m\u001b[0;34m,\u001b[0m\u001b[0;34m\u001b[0m\n",
       "\u001b[0;34m\u001b[0m    \u001b[0mduration\u001b[0m\u001b[0;34m:\u001b[0m \u001b[0mfloat\u001b[0m \u001b[0;34m=\u001b[0m \u001b[0;32mNone\u001b[0m\u001b[0;34m,\u001b[0m\u001b[0;34m\u001b[0m\n",
       "\u001b[0;34m\u001b[0m    \u001b[0moffset\u001b[0m\u001b[0;34m:\u001b[0m \u001b[0mint\u001b[0m \u001b[0;34m=\u001b[0m \u001b[0;36m0\u001b[0m\u001b[0;34m,\u001b[0m\u001b[0;34m\u001b[0m\n",
       "\u001b[0;34m\u001b[0m    \u001b[0mnSamplesPerChannel\u001b[0m\u001b[0;34m:\u001b[0m \u001b[0mint\u001b[0m \u001b[0;34m=\u001b[0m \u001b[0;32mNone\u001b[0m\u001b[0;34m,\u001b[0m\u001b[0;34m\u001b[0m\n",
       "\u001b[0;34m\u001b[0m    \u001b[0mnChannels\u001b[0m\u001b[0;34m:\u001b[0m \u001b[0mint\u001b[0m \u001b[0;34m=\u001b[0m \u001b[0;36m1\u001b[0m\u001b[0;34m,\u001b[0m\u001b[0;34m\u001b[0m\n",
       "\u001b[0;34m\u001b[0m    \u001b[0mchannels\u001b[0m\u001b[0;34m:\u001b[0m \u001b[0mlist\u001b[0m \u001b[0;34m=\u001b[0m \u001b[0;32mNone\u001b[0m\u001b[0;34m,\u001b[0m\u001b[0;34m\u001b[0m\n",
       "\u001b[0;34m\u001b[0m    \u001b[0mprecision\u001b[0m\u001b[0;34m:\u001b[0m \u001b[0mtype\u001b[0m \u001b[0;34m=\u001b[0m \u001b[0;34m<\u001b[0m\u001b[0;32mclass\u001b[0m \u001b[0;34m'numpy.int16'\u001b[0m\u001b[0;34m>\u001b[0m\u001b[0;34m,\u001b[0m\u001b[0;34m\u001b[0m\n",
       "\u001b[0;34m\u001b[0m    \u001b[0mdownsample\u001b[0m\u001b[0;34m:\u001b[0m \u001b[0mint\u001b[0m \u001b[0;34m=\u001b[0m \u001b[0;32mNone\u001b[0m\u001b[0;34m,\u001b[0m\u001b[0;34m\u001b[0m\n",
       "\u001b[0;34m\u001b[0m    \u001b[0mbitVolts\u001b[0m\u001b[0;34m:\u001b[0m \u001b[0mfloat\u001b[0m \u001b[0;34m=\u001b[0m \u001b[0;36m0.195\u001b[0m\u001b[0;34m,\u001b[0m\u001b[0;34m\u001b[0m\n",
       "\u001b[0;34m\u001b[0m    \u001b[0mverbose\u001b[0m\u001b[0;34m:\u001b[0m \u001b[0mbool\u001b[0m \u001b[0;34m=\u001b[0m \u001b[0;32mFalse\u001b[0m\u001b[0;34m,\u001b[0m\u001b[0;34m\u001b[0m\n",
       "\u001b[0;34m\u001b[0m\u001b[0;34m)\u001b[0m \u001b[0;34m->\u001b[0m \u001b[0mxarray\u001b[0m\u001b[0;34m.\u001b[0m\u001b[0mcore\u001b[0m\u001b[0;34m.\u001b[0m\u001b[0mdataarray\u001b[0m\u001b[0;34m.\u001b[0m\u001b[0mDataArray\u001b[0m\u001b[0;34m\u001b[0m\u001b[0;34m\u001b[0m\u001b[0m\n",
       "\u001b[0;31mDocstring:\u001b[0m\n",
       "Load data binaries and apply the appropriate parameters.\n",
       "\n",
       "Parameters\n",
       "----------\n",
       "filename: str\n",
       "    Name of the file to be read.\n",
       "frequency: int | 20 kHz\n",
       "    Sampling rate in Hertz.\n",
       "start: float | 0\n",
       "    Position to start reading in seconds.\n",
       "duration: float | None\n",
       "    Duration to read in seconds. If None takes whole duration.\n",
       "offset: int | 0\n",
       "    Position to start reading (in samples per channel.\n",
       "nSamplesPerChannel: int | None\n",
       "    Number of samples (per channel) to read. If None read all.\n",
       "nChannels: int | 1\n",
       "    Number of data channels in the file.\n",
       "channels: array_like | None\n",
       "    Channels to be read. If None read all.\n",
       "precision: type | np.int16\n",
       "    Sample precision.\n",
       "downsample: int | None\n",
       "    Factor by which to downsample. If None, no downsample is applied.\n",
       "bitVolts: float | 0.195\n",
       "    If provided LFP will be converted to double precision with this\n",
       "    factor (the default value converts LFP to muVolts).\n",
       "\n",
       "\n",
       "Returns\n",
       "-------\n",
       "data: array_like\n",
       "    A multidimensional array containing the data.\n",
       "\u001b[0;31mFile:\u001b[0m      ~/storage1/projects/vanderbilt/src/io/LoadBinary.py\n",
       "\u001b[0;31mType:\u001b[0m      function"
      ]
     },
     "metadata": {},
     "output_type": "display_data"
    }
   ],
   "source": [
    "perpl_LoadBinary?"
   ]
  },
  {
   "cell_type": "markdown",
   "id": "f79726a3-69d1-4591-b625-cc48ab4f6617",
   "metadata": {},
   "source": [
    "#### Load data"
   ]
  },
  {
   "cell_type": "code",
   "execution_count": 6,
   "id": "782964b3-9fdd-42ad-84bb-63031590e89f",
   "metadata": {},
   "outputs": [],
   "source": [
    "n = 1000"
   ]
  },
  {
   "cell_type": "code",
   "execution_count": 7,
   "id": "8aa38f1f-39f0-4487-a681-5da98386db74",
   "metadata": {},
   "outputs": [
    {
     "data": {
      "text/plain": [
       "array([[-51.675,  -1.17 ,  48.165, ...,  27.105,  25.74 ,  22.425],\n",
       "       [-40.95 ,   5.265,  63.18 , ...,  53.82 ,  44.46 ,  25.155],\n",
       "       [-28.86 ,  17.55 ,  82.095, ...,  47.97 ,  57.525,  27.495],\n",
       "       ...,\n",
       "       [-34.905,   1.17 ,  15.015, ...,  30.615,  62.01 ,  54.405],\n",
       "       [-46.995,  -0.78 ,   2.34 , ...,   7.02 ,  27.495,  44.655],\n",
       "       [-45.435,   4.095,  -2.34 , ...,   5.46 ,   4.485,  37.44 ]])"
      ]
     },
     "execution_count": 7,
     "metadata": {},
     "output_type": "execute_result"
    }
   ],
   "source": [
    "perpl_LoadBinary(\n",
    "    filepath,\n",
    "    frequency=30000,\n",
    "    nSamplesPerChannel=1000,\n",
    "    downsample=1,\n",
    "    bitVolts=0.195,\n",
    "    nChannels=64,\n",
    ")"
   ]
  },
  {
   "cell_type": "markdown",
   "id": "739b5471-29e4-4fb3-bc27-f2fca8f9cb5f",
   "metadata": {},
   "source": [
    "#### Save data for different parameters to compare with Matlab version"
   ]
  },
  {
   "cell_type": "code",
   "execution_count": 9,
   "id": "7c78ad6e-009d-40e8-99ea-7ddcc5e60b1b",
   "metadata": {},
   "outputs": [],
   "source": [
    "downsample = np.array([1, 10, 20])\n",
    "nChannels = np.array([1, 5, 64])"
   ]
  },
  {
   "cell_type": "markdown",
   "id": "5467f9ba-9722-4e31-ab5d-4cca7ad81aef",
   "metadata": {},
   "source": [
    "#### Different sample sizes"
   ]
  },
  {
   "cell_type": "code",
   "execution_count": 17,
   "id": "40696cbe-324b-44ad-aa94-47629d3a5cc0",
   "metadata": {},
   "outputs": [],
   "source": [
    "for n in [1000, 5000, 10000, 20000]:\n",
    "    for nC in nChannels:\n",
    "        for decim in downsample:\n",
    "            data = perpl_LoadBinary(\n",
    "                filepath,\n",
    "                frequency=30000,\n",
    "                nSamplesPerChannel=n,\n",
    "                downsample=decim,\n",
    "                bitVolts=0.195,\n",
    "                nChannels=nC,\n",
    "            )\n",
    "            np.savetxt(\n",
    "                f\"/home/vinicius/funcog/vanderbilt/vanderbilt/test_nsamples_{n}_decim_{decim}_nch_{nC}.txt\",\n",
    "                data,\n",
    "                delimiter=\",\",\n",
    "            )"
   ]
  },
  {
   "cell_type": "markdown",
   "id": "232affa2-ffe7-4513-9fd7-087d50476455",
   "metadata": {},
   "source": [
    "#### Different durations (in seconds)"
   ]
  },
  {
   "cell_type": "code",
   "execution_count": 18,
   "id": "7e74fcb7-da99-4f5d-91e9-5b6f6107e477",
   "metadata": {},
   "outputs": [],
   "source": [
    "for n in [1, 5, 10]:\n",
    "    for nC in nChannels:\n",
    "        for decim in downsample:\n",
    "            data = perpl_LoadBinary(\n",
    "                filepath,\n",
    "                frequency=30000,\n",
    "                nSamplesPerChannel=None,\n",
    "                duration=n,\n",
    "                downsample=decim,\n",
    "                bitVolts=0.195,\n",
    "                nChannels=nC,\n",
    "            )\n",
    "            np.savetxt(\n",
    "                f\"/home/vinicius/funcog/vanderbilt/vanderbilt/test_dur_{n}_decim_{decim}_nch_{nC}.txt\",\n",
    "                data,\n",
    "                delimiter=\",\",\n",
    "            )"
   ]
  },
  {
   "cell_type": "code",
   "execution_count": null,
   "id": "e5479983-c102-42bf-8a2c-6f1ffcef5aee",
   "metadata": {},
   "outputs": [],
   "source": []
  }
 ],
 "metadata": {
  "kernelspec": {
   "display_name": "Python 3 (ipykernel)",
   "language": "python",
   "name": "python3"
  },
  "language_info": {
   "codemirror_mode": {
    "name": "ipython",
    "version": 3
   },
   "file_extension": ".py",
   "mimetype": "text/x-python",
   "name": "python",
   "nbconvert_exporter": "python",
   "pygments_lexer": "ipython3",
   "version": "3.9.16"
  }
 },
 "nbformat": 4,
 "nbformat_minor": 5
}
