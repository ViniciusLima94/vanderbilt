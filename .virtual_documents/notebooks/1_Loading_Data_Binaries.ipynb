


import os

import h5py
import matplotlib.pyplot as plt
import numpy as np
from tqdm import tqdm


from VUDA.io.loadbinary import LoadBinary


ROOT = os.path.expanduser("~/funcog/Neural Data/FN - LaDy/10-15-2022")


filepath = os.path.join(ROOT, "aHPC_B_cnct.dat")
tspath = os.path.join(ROOT, "timestamps.mat")


# aHPC_B_cnct.dat - includes CA1
# pHPC - posterior HIPPOCMAPUS





perpl_LoadBinary?





data = LoadBinary(
    filepath,
    frequency=30000,
    nSamplesPerChannel=3000,
    channels=None,
    downsample=1,
    bitVolts=0.195,
    nChannels=64,
    precision=np.int16,
    verbose=False,
)


print(data)
print(data.shape)


plt.figure(figsize=(20, 20))
for i in range(data.shape[1]):
    plt.subplot(11, 6, i + 1)
    plt.plot(data[:, i])
    plt.title(f"Channel {i + 1}")
    plt.axis("off")
plt.tight_layout()





downsample = [1, 10, 20]
channels = [1, 5, 10, 23, 55]

















from VUDA.io.dataloader import DataLoader


DataLoader?


rec_info = os.path.expanduser(
    "/home/vinicius/storage1/projects/vanderbilt/recording_params.json"
)


loader = DataLoader(filepath, rec_info)


loader.loadbinary(nSamplesPerChannel=100000, downsample=30, verbose=True)


loader.data.plot(hue="channels", color="b", lw=0.1)
plt.legend([], frameon=False)


loader.filter(0, 120, {})


loader.data.plot(hue="channels", color="b", lw=0.1)
plt.legend([], frameon=False)





data = LoadBinary(
    filepath,
    frequency=30000,
    nSamplesPerChannel=None,
    channels=[33],
    downsample=30,
    bitVolts=0.195,
    nChannels=64,
    precision=np.int16,
    verbose=False,
)


data


timestamps = np.asarray(h5py.File(tspath).get("timestamps")).squeeze()


timestamps[::30].shape[0]


plt.figure(figsize=(8, 4))
plt.plot(timestamps[::30])


np.diff(timestamps).min()


0.0010015 - 0.000999


1 / 30000


1 / 1000


np.diff(timestamps).max()


1 / 30000


import jax
import jax.numpy as jnp
import scipy
from scipy.interpolate import CubicSpline
from scipy.signal import argrelextrema


t = jnp.linspace(0, 0.2, 100)
x = (
    jnp.sin(2 * jnp.pi * 3 * t)
    + jnp.sin(2 * jnp.pi * 10 * t)
    + jnp.sin(2 * jnp.pi * 60 * t)
    + 0.5 * jnp.sin(2 * jnp.pi * 120 * t)
)


idx_max = argrelextrema(x, np.greater)
idx_min = argrelextrema(x, np.less)


plt.plot(t, x)
plt.plot(t[idx_max], x[idx_max], "r*")
plt.plot(t[idx_min], x[idx_min], "g*")


from functools import partial


def _boolrelextrema(data, comparator, axis):
    order = 1
    mode = "clip"

    datalen = data.shape[axis]
    locs = jnp.arange(0, datalen)

    results = jnp.ones(data.shape, dtype=bool)
    main = data.take(locs, axis=axis, mode=mode)
    for shift in range(1, order + 1):
        plus = data.take(locs + shift, axis=axis, mode=mode)
        minus = data.take(locs - shift, axis=axis, mode=mode)
        results &= comparator(main, plus)
        results &= comparator(main, minus)
        if ~results.any():
            return results
    return results


def argrelextrema(data, comparator, axis=0):

    results = _boolrelextrema(data, comparator, axis)
    return jnp.nonzero(results)


@jax.jit
def cubic_spline_interpolation(x, y):

    x = jnp.asarray(x)
    y = jnp.asarray(y)

    n = len(x) - 1
    h = jnp.diff(x)
    alpha = jnp.diff(y) / h

    A = jnp.zeros((n + 1, n + 1))
    A = A.at[0, 0].set(1)
    A = A.at[n, n].set(1)

    for i in range(1, n):
        A = A.at[i, i - 1 : i + 2].set([h[i - 1], 2 * (h[i - 1] + h[i]), h[i]])

    B = jnp.zeros(n + 1)
    B = B.at[1:n].set(3 * (alpha[1:] - alpha[:-1]))

    c = jax.scipy.linalg.solve(A, B)

    a = y[:-1]
    b = alpha - h * (2 * c[:-1] + c[1:]) / 3
    d = (c[1:] - c[:-1]) / (3 * h)

    return a, b, c[:-1], d


@jax.jit
def cubic_spline_eval(xi, x, a, b, c, d):
    x = jnp.asarray(x)
    xi = jnp.asarray(xi)

    # Find the index of the interval for each xi
    indices = jnp.searchsorted(x, xi, side="right") - 1
    indices = jnp.clip(indices, 0, len(x) - 2)

    # Evaluate the cubic spline at each xi
    dx = xi - x[indices]
    result = a[indices] + b[indices] * dx + c[indices] * dx**2 + d[indices] * dx**3

    return result


def EMD(X, t, max_IMF=np.inf):

    x = X.copy()
    IMFs = []
    nIMFs = 0

    while True:

        h = x.copy()
        SD = 1

        while SD > 0.3:

            idx_max = argrelextrema(h, jnp.greater)[0]
            idx_min = argrelextrema(h, jnp.less)[0]

            if idx_max.shape[0] + idx_min.shape[0] < 2:
                break

            U = cubic_spline_eval(
                t, t[idx_max], *cubic_spline_interpolation(t[idx_max], h[idx_max])
            )
            L = cubic_spline_eval(
                t, t[idx_min], *cubic_spline_interpolation(t[idx_min], h[idx_min])
            )
            m = (U + L) / 2

            prevh = h.copy()
            h = h - m

            SD = np.sum(((prevh - h) ** 2) / (prevh**2 + 0.0000001))

        IMFs += [h]
        nIMFs += 1
        x = x - h

        if nIMFs >= max_IMF:
            break

        if idx_max.shape[0] + idx_min.shape[0] < 2:
            break

    return np.stack(IMFs)

from frites.utils import parallel_func

def EEMD(X, t, max_IMF=1, n_trials=1, n_jobs=1, verbose=False):

    ENSEMBLE = X + np.random.normal(0, 1, size=(20, len(x)))

    # define the function to compute in parallel
    parallel, p_fun = parallel_func(
        EMD, n_jobs=n_jobs, verbose=verbose, total=n_trials
    )
    # Compute the single trial coherence
    IMFs = parallel(p_fun(ENSEMBLE[i], t, max_IMF) for i in range(n_trials))

    return IMFs


EEMD(x, t, max_IMF=5, n_trials=20, n_jobs=20, verbose=False)


IMFs = EMD(x)


np.stack(IMFs).shape


plt.plot(t, x)
plt.plot(t, np.stack(IMFs)[0]);
plt.plot(t, np.stack(IMFs)[1]);
plt.plot(t, np.stack(IMFs)[2]);
plt.plot(t, np.stack(IMFs)[3]);

plt.plot(t, np.stack(IMFs).sum(0), "--");


ENSEMBLE = x + np.random.normal(0, 1, size=(20, len(x)))


IMFs = np.stack([ EMD(np.array(ENSEMBLE[i]), t, 5) for i in tqdm(range(20))])


argrelextrema( np.stack(IMFs).mean(0)[1] ,  jnp.greater)[0].shape


argrelextrema( np.stack(IMFs).mean(0)[1] ,  jnp.less)[0].shape


my_array = np.stack(IMFs).mean(0)[1] 


((my_array[:-1] * my_array[1:]) < 0).sum()


import PyEMD

_emd = PyEMD.EMD()
out = _emd.emd(np.array(x), max_imf=5)


plt.plot(t, out[3])


ENSEMBLE = x + jax.random.normal(jax.random.PRNGKey(1701), shape=(20, x.shape[0])) 


plt.plot(ENSEMBLE[2])


EMD_vec = jax.vmap(EMD, in_axes=(0), out_axes=(1))


EMD_vec(ENSEMBLE)


cs(x, t[idx_max[0]])


U = cs(t[idx_max])
L = cs(t[idx_min])

m = (U[1:] + L) / 2


idx, _ = scipy.signal.find_peaks(x)


idx = np.abs(jnp.gradient(x, t[1] - t[0])) <= 0.1


idx = (jnp.diff(jnp.sign(jnp.diff(x))) > 0).nonzero()[0]





# Plot the original data points and the cubic spline curve
import matplotlib.pyplot as plt
import numpy as np
from scipy.linalg import solve





# Example usage:
x = np.array([1, 2, 3, 4, 5])
y = np.array([1, 0, 2, 3, 1])

a, b, c, d = cubic_spline_interpolation(x, y)

# Generate points for the spline curve
x_new = np.linspace(min(x), max(x), 100)
y_new = cubic_spline_eval(x_new, x, a, b, c, d)

plt.scatter(x, y, label="Data Points")
plt.plot(x_new, y_new, label="Cubic Spline", color="red")
plt.legend()
plt.xlabel("X")
plt.ylabel("Y")
plt.title("Cubic Spline Interpolation (from scratch)")
plt.show()


    x = jnp.asarray(x)
    y = jnp.asarray(y)
    
    n = len(x) - 1
    h = jnp.diff(x)
    alpha = jnp.diff(y) / h


A = jnp.zeros((n + 1, n + 1))
A = A.at[0, 0].set(1)
A = A.at[n, n].set(1)
print(A)


A.at[n, n].set(1)


A



