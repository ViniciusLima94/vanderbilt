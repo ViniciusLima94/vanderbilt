


import os

import matplotlib.pyplot as plt
import numpy as np
from tqdm import tqdm


from VUDA.io.loadbinary import LoadBinary


filepath = "/home/vinicius/funcog/vanderbilt/neural_data/s"


# aHPC_B_cnct.dat - includes CA1
# pHPC - posterior HIPPOCMAPUS





perpl_LoadBinary?





data = LoadBinary(
    filepath,
    frequency=30000,
    nSamplesPerChannel=3000,
    channels=None,
    downsample=1,
    bitVolts=0.195,
    nChannels=64,
    precision=np.int16,
    verbose=False,
)


print(data)
print(data.shape)


plt.figure(figsize=(20, 20))
for i in range(data.shape[1]):
    plt.subplot(11, 6, i + 1)
    plt.plot(data[:, i])
    plt.title(f"Channel {i + 1}")
    plt.axis("off")
plt.tight_layout()





downsample = [1, 10, 20]
channels = [1, 5, 10, 23, 55]

















from VUDA.io.dataloader import DataLoader


DataLoader?


rec_info = os.path.expanduser(
    "/home/vinicius/storage1/projects/vanderbilt/recording_params.json"
)


loader = DataLoader(filepath, rec_info)


loader.loadbinary(nSamplesPerChannel=100000, downsample=30, verbose=True)


loader


loader.data.plot(hue="channels", color="b", lw=0.1)
plt.legend([], frameon=False)


loader.filter(0, 120, {})


loader.data.plot(hue="channels", color="b", lw=0.1)
plt.legend([], frameon=False)



