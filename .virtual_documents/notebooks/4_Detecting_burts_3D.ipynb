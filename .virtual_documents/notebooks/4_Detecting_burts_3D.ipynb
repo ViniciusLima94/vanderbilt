


import sys

sys.path.insert(1, "/home/vinicius/storage1/projects/vanderbilt")


import os

import emd
import igraph as ig
import matplotlib.pyplot as plt
import networkx as nx
import numpy as np
import PyEMD
import scipy
import skimage as ski
import umap
import xarray as xr
from frites.utils import parallel_func
from mne.time_frequency import tfr_array_morlet
from scipy.optimize import curve_fit
from skimage.segmentation import watershed
from tqdm import tqdm

from config import metadata
from VUDA.emd import emd_vec
from VUDA.io.loadbinary import LoadBinary





from functools import partial

import jax
import jax.numpy as jnp

jax.config.update("jax_platform_name", "cpu")


def get_bc(cycles, freq, k_sd=5):
    return cycles / (k_sd * freq)


def cxmorelet(freq, cycles, sampling_freq):
    t = jnp.linspace(-1, 1, sampling_freq * 2)

    bc = get_bc(cycles, freq)
    norm = 1 / (bc * jnp.sqrt(2 * jnp.pi))
    gauss = jnp.exp(-(t**2) / (2 * bc**2))
    sine = jnp.exp(1j * 2 * jnp.pi * freq * t)

    wavelet = norm * gauss * sine
    return wavelet / jnp.sum(jnp.abs(wavelet))


@partial(jax.jit, static_argnums=3)
@partial(jax.vmap, in_axes=(None, 0, None, None))
def wavelet_transform(signal, freq, cycles, sampling_freq):
    wavelet = cxmorelet(freq, cycles, sampling_freq)
    return jax.scipy.signal.convolve(signal, wavelet, mode="same")


@partial(jax.jit, static_argnums=3)
@partial(jax.vmap, in_axes=(None, None, 0, None))
def superlet_transform_helper(signal, freqs, order, sampling_freq):
    return wavelet_transform(signal, freqs, order, sampling_freq) * jnp.sqrt(2)


def order_to_cycles(base_cycle, max_order, mode):
    if mode == "add":
        return jnp.arange(0, max_order) + base_cycle
    elif mode == "mul":
        return jnp.arange(1, max_order + 1) * base_cycle
    else:
        raise ValueError('mode should be one of "mul" or "add"')


def get_order(f, f_min: int, f_max: int, o_min: int, o_max: int):
    return o_min + jnp.round((o_max - o_min) * (f - f_min) / (f_max - f_min))


@partial(jax.vmap, in_axes=(0, None))
def get_mask(order, max_order):
    return jnp.arange(1, max_order + 1) > order


@jax.jit
def norm_geomean(X, root_pows, eps):
    X = jnp.log(X + eps).sum(axis=0)

    return jnp.exp(X / jnp.array(root_pows).reshape(-1, 1))


# @jax.jit
def adaptive_superlet_transform(
    signal,
    freqs,
    sampling_freq: int,
    base_cycle: int,
    min_order: int,
    max_order: int,
    eps=1e-12,
    mode="mul",
):
    """Computes the adaptive superlet transform of the provided signal
    Args:
        signal (jnp.ndarray): 1D array containing the signal data
        freqs (jnp.ndarray): 1D sorted array containing the frequencies to compute the wavelets at
        sampling_freq (int): Sampling frequency of the signal
        base_cycle (int): The number of cycles corresponding to order=1
        min_order (int): The minimum upper limit of orders to be used for a frequency in the adaptive superlet.
        max_order (int): The maximum upper limit of orders to be used for a frequency in the adaptive superlet.

        eps (float, optional): Epsilon value to be used for numerical stability in the geometric mean. Defaults to 1e-12.
        mode (str, optional): "add" or "mul", corresponding to the use of additive or multiplicative adaptive superlets. Defaults to "mul".
    Returns:
        jnp.ndarray: 2D array (Frequency x Time) representing the computed scalogram
    """
    cycles = order_to_cycles(base_cycle, max_order, mode)
    orders = get_order(freqs, min(freqs), max(freqs), min_order, max_order)
    mask = get_mask(orders, max_order)

    out = superlet_transform_helper(signal, freqs, cycles, sampling_freq)
    out = out.at[mask.T].set(1)

    return norm_geomean(out, orders, eps)


def superlets(
    data,
    freqs,
    sampling_freq,
    base_cycle=3,
    min_order=1,
    max_order=30,
    eps=1e-12,
    mode="mul",
):
    if not isinstance(data, jax.numpy.ndarray):
        data = jnp.array(data)
    if not isinstance(freqs, jax.numpy.ndarray):
        freqs = jnp.array(freqs)

    _fcn = partial(
        adaptive_superlet_transform,
        freqs=freqs,
        sampling_freq=sampling_freq,
        base_cycle=base_cycle,
        min_order=min_order,
        max_order=max_order,
        eps=eps,
        mode=mode,
    )

    def _loop(carry, array):
        return carry, _fcn(array)

    tf = jax.vmap(jax.vmap(_fcn, in_axes=(0,)), in_axes=(0,))

    return tf(data)





import numba as nb
import numpy as np
import xarray as xr
from skimage import measure as ski


def arrays_equal(a, b):
    """
    Check if two arrays are equal.

    Parameters:
    - a (numpy.ndarray): First array.
    - b (numpy.ndarray): Second array.

    Returns:
    - bool: True if the arrays are equal, False otherwise.

    This function checks whether two arrays are equal by comparing their shapes
    and element-wise values.
    """
    if a.shape != b.shape:
        return False
    for ai, bi in zip(a.flat, b.flat):
        if ai != bi:
            return False
    return True


def return_labeled_image(img: np.ndarray = None, threshold: float = None):
    """
    Label regions in a binary image using a given threshold.

    Parameters:
    - img (numpy.ndarray): The binary image to label.
    - threshold (float): The threshold for labeling.

    Returns:
    - numpy.ndarray: A labeled image with connected regions.
    - numpy.ndarray: Array of unique labels.
    - int: The number of unique labels.

    This function labels connected regions in a binary image based on a given threshold.
    It uses the `ski.measure.label` function from the scikit-image library to perform
    the labeling. The resulting labeled image contains connected regions with unique
    labels, and the number of labels is also returned.
    """
    labeled_image = ski.label(img > threshold, background=0)
    labels = np.unique(labeled_image)[1:]
    nlabels = len(labels)
    return labeled_image, labels, nlabels


def detect_bursts(
    spectra: xr.DataArray,
    init_threshold: float = None,
    min_threshold: float = 0,
    gamma: float = 1,
    zscore_dims: tuple = None,
    verbose: bool = False,
):
    """
    Detect bursts in spectra using a dynamic thresholding approach.

    Parameters:
    - spectra (xarray.DataArray): The input spectra to analyze.
    - init_threshold (float): The initial threshold for labeling. If none uses the floor
                              of the maximum value in the zsored data.
    - min_threshold (float): The minimum threshold to stop the labeling process.
    - gamma (float): The step size for updating the threshold.
    - zscore_dims (tuple): Dimensions along which to compute z-scores.

    Returns:
    - numpy.ndarray: An image with labeled bursts.

    This function detects bursts in a given spectra by iteratively updating a labeling
    based on threshold values. It starts with an initial threshold, and in each iteration,
    it updates the labeling using a lower threshold. The process continues until the
    threshold reaches the minimum threshold value. The resulting labeled image contains
    burst regions.

    Note: The input spectra are first z-scored before applying labeling.
    """

    size = spectra.shape
    z = (spectra - spectra.mean(zscore_dims)) / spectra.std(zscore_dims)
    return_labeled_image_partial = partial(return_labeled_image, img=z)

    if init_threshold is None:
        init_threshold = int(z.max(zscore_dims).min())  # int(np.max(z))

    # Create first labeld image
    labeled_image, labels, nlabels = return_labeled_image(z, init_threshold)

    thresholds = np.arange(init_threshold, min_threshold, -gamma, dtype=float) - gamma

    __iter = tqdm(thresholds) if verbose else thresholds

    # thr = init_threshold - gamma

    for thr in __iter:
        if verbose:
            __iter.set_description(f"thrshold = {thr}")
        new_labeled_image, new_labels, new_nlabels = return_labeled_image_partial(
            threshold=thr
        )

        indexes = np.zeros(new_labeled_image.shape, dtype=np.bool_)

        for label in new_labels:
            mask = new_labeled_image == label
            unique_labels = np.unique(mask * labeled_image)
            if len(unique_labels) > 2:
                indexes = np.logical_or(indexes, mask)

        not_indexes = np.logical_not(indexes)
        new_labeled_image = new_labeled_image * not_indexes + labeled_image * indexes

        old_labeled_image = labeled_image.copy()

        labeled_image, labels, nlabels = return_labeled_image(new_labeled_image, 0)

        # Break if there is no evolution of patches
        if arrays_equal(labeled_image > 0, old_labeled_image > 0):
            break

        del old_labeled_image

    return labeled_image


def to_bin_freq(freqs, peaks):

    n_blocks, n_peaks = peaks.shape
    n_freqs = freqs.shape[0]

    def _for_peak(carry, peak):

        vec = jnp.zeros(n_freqs, dtype=int)
        indexes = jnp.stack(
            [jnp.argmin(jnp.abs(freqs - peak[i])) for i in range(n_peaks)]
        )
        vec = vec.at[indexes].set(1)
        return carry, vec

    _, vec = jax.lax.scan(_for_peak, None, peaks)

    return np.asarray(vec)





date = "10-20-2022"
monkey = "FN"
max_imfs = None
method = "eemd"


composites_path = os.path.expanduser(
    f"~/funcog/HoffmanData/{monkey}/{date}/composite_signals_task_method_eemd_max_imfs_None_std_False.nc"
)

ps_composites_path = os.path.expanduser(
    f"~/funcog/HoffmanData/{monkey}/{date}/ps_composite_signals_task_method_eemd_max_imfs_None_std_False.nc"
)


composites = xr.open_dataset(composites_path)
ps_composites = xr.open_dataset(ps_composites_path)





kernel = np.hanning(50)


channels = list(composites.keys())


peaks = []

for channel in tqdm(channels):
    data = ps_composites[channel].dropna("IMFs")
    freqs = data.freqs.data

    data_sm = xr.DataArray(
        scipy.signal.fftconvolve(data, kernel[None, None, :], mode="same", axes=2),
        dims=data.dims,
        coords=data.coords,
    )

    freqs = data.freqs.data

    n_blocks, n_IMFs, n_freqs = data.shape

    peaks += [freqs[data_sm.argmax("freqs").data]]


plt.figure(figsize=(20, 20), dpi=600)
for pos in range(len(channels)):
    plt.subplot(10, 4, pos + 1)
    for i in range(peaks[pos].shape[1]):
        plt.scatter(peaks[pos][:, i], np.arange(200, dtype=int), s=5)
    plt.ylim(-3, 203)

    plt.xlabel("Frequency [Hz]")
    plt.ylabel("Blocks")
    plt.title(f"Channel {pos + 1}")
plt.tight_layout()


plt.figure(figsize=(15, 4))
d = []
for pos in range(len(channels)):
    x = peaks[pos].flatten()
    d += [x]
    plt.scatter(x, [pos + 1] * len(x), s=1, c="k")
plt.ylabel("Channel")
plt.xlabel("Frequency [Hz]")


X = []

bands = {}

for channel in tqdm(channels):
    data = ps_composites[channel].load().dropna("IMFs")
    x = composites[channel].load().dropna("IMFs")

    freqs = data.freqs.data
    kernel = np.hanning(50)

    data_sm = xr.DataArray(
        scipy.signal.fftconvolve(data, kernel[None, None, :], mode="same", axes=2),
        dims=data.dims,
        coords=data.coords,
    )

    freqs = data.freqs.data

    n_blocks, n_IMFs, n_freqs = data.shape

    peaks = freqs[data_sm.argmax("freqs")]

    # Defining limits of slow and fast rythms
    min_peaks = peaks.min(0)
    min_theta = peaks.min()

    max_peaks = peaks.max(0)
    max_theta = max(np.ceil(max_peaks[np.argmin(np.abs(max_peaks - 10))]), 10)

    min_gamma = min(peaks.min(0)[-1], 50)

    slow_idx = np.logical_and(
        peaks.flatten() >= min_theta, peaks.flatten() <= max_theta
    ).reshape(peaks.shape)

    fast_idx = np.logical_and(
        peaks.flatten() >= min_gamma, peaks.flatten() <= np.inf
    ).reshape(peaks.shape)

    slow = (x * slow_idx[..., None]).sum("IMFs")
    fast = (x * fast_idx[..., None]).sum("IMFs")
    bands[channel] = {}
    bands[channel]["theta"] = [min_theta, max_theta]
    bands[channel]["gamma"] = [min_gamma, 150]
    X += [xr.concat((slow, fast), "components")]

X = xr.concat(X, "channels")
X = X.assign_coords({"channels": channels})





channel = "channel31"


fvec_theta = np.linspace(3, 10, 30)

fvec_gamma = np.linspace(30, 150, 30)


W_theta = tfr_array_morlet(
    X.sel(components=0).transpose("blocks", "channels", "times"),
    1000,
    fvec_theta,
    n_cycles=12,
    decim=10,
    n_jobs=20,
).squeeze()

dims = ("batches", "channels", "freqs", "times")
coords = dict(freqs=fvec_theta, channels=channels)
W_theta = xr.DataArray((W_theta * W_theta.conj()).real, dims=dims, coords=coords)


W_gamma = tfr_array_morlet(
    X.sel(components=1).transpose("blocks", "channels", "times"),
    1000,
    fvec_gamma,
    decim=10,
    n_cycles=fvec_gamma / 2,
    n_jobs=30,
).squeeze()

dims = ("batches", "channels", "freqs", "times")
coords = dict(freqs=fvec_gamma, channels=channels)
W_gamma = xr.DataArray((W_gamma * W_gamma.conj()).real, dims=dims, coords=coords)


x = X.isel(components=0, blocks=0).sel(channels="channel31")
y = X.isel(components=1, blocks=0).sel(channels="channel31")

x = (x - x.mean("times")) / (x.std("times"))
y = (y - y.mean("times")) / (y.std("times"))


plt.figure(figsize=(12, 4))
plt.subplot(1, 2, 1)
W_theta.isel(batches=0).sel(channels="channel31").plot(cmap="turbo", vmax=1e4)
plt.plot(x + 6, "w")
plt.title(r"$\theta$-composite")
plt.xlim(0, 1000)
plt.subplot(1, 2, 2)
W_gamma.isel(batches=0).sel(channels="channel31").plot(cmap="turbo", vmax=500)
plt.plot(3 * y + 120, "w")
plt.title(r"$\gamma$-composite")
plt.xlim(0, 500)





labeled3D = detect_bursts(
    W_theta[0],
    init_threshold=None,
    min_threshold=0.1,
    gamma=0.1,
    zscore_dims=("times", "freqs"),
    verbose = True
)


plt.figure(figsize=(12, 4))
plt.subplot(1, 2, 1)
W_theta.isel(batches=0).sel(channels="channel31").plot(cmap="turbo", vmax=1e4)
plt.xlim(0, 1000)
plt.subplot(1, 2, 2)
plt.imshow(labeled3D[30] > 0, aspect="auto", origin="lower")
plt.xlim(0, 1000)


unique, counts = np.unique(labeled3D, return_counts=True)
unique[counts > 300][1:].shape


nonzero_coords = np.transpose(np.nonzero(labeled3D > 0))

# Visualize the 3D matrix
fig = plt.figure(figsize=(8, 8), dpi=150)
ax = fig.add_subplot(111, projection="3d")

# Scatter plot for each non-zero element
ax.scatter(
    nonzero_coords[:, 2],
    nonzero_coords[:, 1],
    nonzero_coords[:, 0],
    c="b",
    marker="o",
    s=0,
)
# Set labels and title
ax.set_xlabel("X")
ax.set_ylabel("Y")
ax.set_zlabel("Z")
ax.set_title("3D Scatter Plot as a Solid Object")
ax.set_zlabel("Channels", labelpad=-5)


cmap = plt.get_cmap("turbo")
for l in unique[counts > 300][1:]:
    x, y, z = np.where(labeled3D == l)
    color = cmap(l / labeled3D.max())
    ax.scatter(z, y, x, marker=".", label=f"l={l}", s=1000)
ax.set_xlabel("Time")
ax.set_ylabel("Frequency")
ax.set_zlabel("Channels", labelpad=-5)
ax.view_init(elev=30, azim=45)


fig = plt.figure(figsize=(20, 10), dpi=150)
nonzero_coords = np.transpose(np.nonzero(labeled3D > 0))

for pos, l in enumerate(unique[counts > 300][1:][:10]):
    # Visualize the 3D matrix

    ax = fig.add_subplot(2, 5, pos + 1, projection="3d")

    # Scatter plot for each non-zero element
    ax.scatter(
        nonzero_coords[:, 2],
        nonzero_coords[:, 1],
        nonzero_coords[:, 0],
        c="w",
        marker="o",
        s=0,
    )

    x, y, z = np.where(labeled3D == l)
    color = cmap(l / labeled3D.max())
    ax.scatter(
        z,
        y,
        x,
        marker=".",
        label=f"l={l}",
        color="r",
        s=1000,
    )
    ax.set_xlabel("Time")
    ax.set_ylabel("Frequency")
    ax.set_zlabel("Channels", labelpad=-5)
    ax.view_init(elev=0, azim=45)





freqs = W_theta.freqs.values
times = W_theta.times.values
nchannels = W_theta.sizes["channels"]


unique_labels, counts = np.unique(labeled3D, return_counts=True)


unique_labels = unique_labels[1:]
counts = counts[1:]


def replace_zeros_with_nan(arr):
    """
    Replaces zeros in a JAX array with NaNs.

    Parameters:
        arr (jax.numpy.ndarray): Input array.

    Returns:
        jax.numpy.ndarray: Array with zeros replaced by NaNs.
    """
    return jnp.where(arr == 0, jnp.nan, arr)


@partial(jax.vmap, in_axes=(None, 0))
def get_n_channels(labels: np.ndarray, label: int):
    """
    Calculates the maximum number of channels associated with a given label.

    Parameters:
        labels (numpy.ndarray): Array of labels.
        label (int): Label to compute channels for.

    Returns:
        int: Maximum number of channels associated with the given label.
    """
    return (labels == label).sum(0).max()


def nonzeromean(data: np.ndarray):
    """
    Computes the mean of non-zero elements in the input array.

    Parameters:
        data (numpy.ndarray): Input array.

    Returns:
        float: Mean of non-zero elements.
    """
    return data.sum() / (jnp.abs(data) > 0).sum()


def nonzerostd(data: np.ndarray):
    """
    Computes the standard deviation of non-zero elements in the input array.

    Parameters:
        data (numpy.ndarray): Input array.

    Returns:
        float: Standard deviation of non-zero elements.
    """
    non_zero_elements = data[data != 0]
    mean = non_zero_elements.mean()
    variance = ((non_zero_elements - mean) ** 2).mean()
    std_dev = np.sqrt(variance)
    return std_dev


def get_masked_feature(vector: np.ndarray, labels: np.ndarray, label: int):
    """
    Masks the feature vector based on the given label.

    Parameters:
        vector (numpy.ndarray): Feature vector.
        labels (numpy.ndarray): Array of labels.
        label (int): Label to mask the feature vector.

    Returns:
        numpy.ndarray: Masked feature vector.
    """
    return (labels == label) * vector


@partial(jax.vmap, in_axes=(None, None, 0))
def average_feature(vector: np.ndarray, labels: np.ndarray, label: int):
    """
    Computes the average of non-zero elements in the masked feature vector, replacing zeros with NaNs.

    Parameters:
        vector (numpy.ndarray): Feature vector.
        labels (numpy.ndarray): Array of labels.
        label (int): Label to compute the average for.

    Returns:
        float: Average of non-zero elements in the masked feature vector.
    """
    masked = get_masked_feature(vector, labels, label)
    return jnp.nanmean(replace_zeros_with_nan(masked))


@partial(jax.vmap, in_axes=(None, None, 0))
def spread_feature(vector: np.ndarray, labels: np.ndarray, label: int):
    """
    Computes the standard deviation of non-zero elements in the masked feature vector, replacing zeros with NaNs.

    Parameters:
        vector (numpy.ndarray): Feature vector.
        labels (numpy.ndarray): Array of labels.
        label (int): Label to compute the standard deviation for.

    Returns:
        float: Standard deviation of non-zero elements in the masked feature vector.
    """
    masked = get_masked_feature(vector, labels, label)
    return jnp.nanstd(replace_zeros_with_nan(masked))


@partial(jax.vmap, in_axes=(None, None, 0))
def get_duration(times: np.ndarray, labels: np.ndarray, label: int):
    """
    Computes the duration of a particular label based on the provided times.

    Parameters:
        times (numpy.ndarray): Array of times.
        labels (numpy.ndarray): Array of labels.
        label (int): Label to compute the duration for.

    Returns:
        float: Duration of the label.
    """
    arr = get_masked_feature(times[None, :], labels, label)
    arr = replace_zeros_with_nan(arr)
    _min = jnp.nanmin(arr)
    _max = jnp.nanmax(arr)
    return _max - _min


@partial(jax.vmap, in_axes=(None, None, 0))
def get_spatial_spread(nchannels: int, labels: np.ndarray, label: int):
    """
    Computes the spatial spread of a particular label.

    Parameters:
        nchannels (int): Number of channels.
        labels (numpy.ndarray): Array of labels.
        label (int): Label to compute the spatial spread for.

    Returns:
        numpy.ndarray: Array containing the minimum and maximum channel indices.
    """
    out = jnp.nonzero(
        (labels == label).sum((1, 2)), size=nchannels, fill_value=jnp.nan
    )[0]
    ci, cf = jnp.nanmin(out), jnp.nanmax(out)
    return jnp.array([ci, cf], dtype=jnp.int16)


get_average_time = partial(average_feature, times[None, :])
get_average_freq = partial(average_feature, freqs[:, None])

get_std_time = partial(spread_feature, times[None, :])
get_std_freq = partial(spread_feature, freqs[:, None])


mu_time = get_average_time(labeled3D, unique_labels)
sig_time = get_std_time(labeled3D, unique_labels)
duration = get_duration(times, labeled3D, unique_labels)
mu_freq = get_average_freq(labeled3D, unique_labels)
sig_freq = get_std_freq(labeled3D, unique_labels)
n_channels = get_n_channels(labeled3D, unique_labels)
spatial_spread = get_spatial_spread(nchannels, labeled3D, unique_labels)


features = [mu_time, sig_time, duration, mu_freq, sig_freq, n_channels]
features_names = [
    "average(time)",
    "std(time)",
    "duration",
    "average(freq)",
    "std(freq)",
    "#channels",
]


import seaborn as sns

plt.figure(figsize=(15, 8), dpi=120)
for pos, feature in enumerate(features):
    plt.subplot(2, 3, pos + 1)
    sns.histplot(data=feature, bins=10)
    plt.xticks(fontsize=12)
    plt.yticks(fontsize=12)
    plt.title(features_names[pos], fontsize=12)



